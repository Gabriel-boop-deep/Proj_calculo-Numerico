{
  "cells": [
    {
      "cell_type": "markdown",
      "metadata": {
        "id": "6pvZQUc9psYm"
      },
      "source": [
        "\n",
        "<p align=\"center\">\n",
        "  <img src=\"https://www.ufba.br/sites/portal.ufba.br/files/brasao_ufba.jpg\" alt=\"UFBA\" width=\"150\">\n",
        "</p>\n",
        "\n",
        "\n",
        "<p align=\"center\">\n",
        "UNIVERSIDADE FEDERAL DA BAHIA\n",
        "</p>\n",
        "\n",
        "## Aluno 1: Gabriel Nunes Barbosa Nogueira\n",
        "## Aluno 2: Pedro Thadeu Passos de Almeida\n",
        "## Aluno 3: Macario Ribeiro da Silva Neto\n",
        "## Aluno 4: Uerleis de Souza Nunes\n",
        "## Professora: Margarette\n",
        "<p align=\"center\">\n",
        "Trabalho Semestral T02\n",
        "</p>\n",
        "\n",
        "###Descrição:\n",
        "\n",
        "###Objetivos\n",
        "* A partir do estudo teórico e a prática computacional em Cálculo Numérico, consolidar os conhecimentos sobre os Métodos Numéricos de Resolução de Equações Diferenciais Ordinárias.\n",
        "\n",
        "###Detalhamento das Implementações\n",
        "* A equipe deve desenvolver uma pesquisa descrevendo o método de Euler para o cálculo de Equações Diferenciais Ordinárias. Neste texto também, deve conter exemplos de como calcular usando o método de Euler (texto com no máximo 10 páginas). A pesquisa deveindicar as referências bibliográficas usadas.\n",
        "* A equipe deve fazer um programa com o método de Euler para calcular as Equações\n",
        "Diferenciais Ordinárias. Neste programa, o usuário deve informar:\n",
        "* A função 𝑓 que representa a função derivada definida por 𝑓(𝑥, 𝑦).\n",
        "* 𝒚𝟎 = 𝒚(𝒙𝟎) é a condição inicial de 𝑦(𝑥) para 𝑥 = 𝒙𝟎.\n",
        "* 𝒉 representa o espaçamento entre dois valores consecutivos 𝑥𝑖 e 𝑥𝑖+1\n",
        "* n o número de subintervalos."
      ]
    },
    {
      "cell_type": "markdown",
      "metadata": {
        "id": "J_u_seijr6en"
      },
      "source": [
        "Neste exemplo, o programa solicita ao usuário que digite a função f(x, y), a condição inicial y0, o valor inicial x0, o espaçamento h entre os valores consecutivos xi e xi+1 e o número de subintervalos n. Em seguida, a função f_func é definida com base na entrada do usuário usando a função eval. Por fim, a função euler é chamada com base nas informações fornecidas pelo usuário e as aproximações da solução são impressas na tela."
      ]
    },
    {
      "cell_type": "code",
      "execution_count": null,
      "metadata": {
        "colab": {
          "base_uri": "https://localhost:8080/"
        },
        "id": "Hn0YOPzanR_g",
        "outputId": "e130d034-9d4b-4bc6-dec3-04e865b2b4ec"
      },
      "outputs": [
        {
          "name": "stdout",
          "output_type": "stream",
          "text": [
            "Exemplo de entrada\n",
            "f = x + y para a função f(x, y) = x + y\n",
            "y0 = 1\n",
            "x0 = 0\n",
            "h = 0.1\n",
            "n = 10\n",
            "Digite a função f(x, y): x + y\n",
            "Digite a condição inicial y0: 1\n",
            "Digite o valor inicial de x0: 0\n",
            "Digite o espaçamento h entre os valores consecutivos xi e xi+1: 0.1\n",
            "Digite o número de subintervalos n: 10\n",
            "[1.0, 1.1, 1.2200000000000002, 1.362, 1.5282, 1.72102, 1.943122, 2.1974342, 2.48717762, 2.8158953820000003, 3.1874849202]\n"
          ]
        }
      ],
      "source": [
        "def euler(f, y0, x0, h, n):\n",
        "    \"\"\"\n",
        "    Calcula a aproximação da solução da equação diferencial y' = f(x, y) usando o método de Euler.\n",
        "\n",
        "    Args:\n",
        "        f: função que representa a função derivada definida por f(x, y).\n",
        "        y0: condição inicial de y(x) para x = x0.\n",
        "        x0: valor inicial de x.\n",
        "        h: espaçamento entre dois valores consecutivos xi e xi+1.\n",
        "        n: número de subintervalos.\n",
        "\n",
        "    Returns:\n",
        "        Uma lista com as aproximações da solução y nos pontos da grade especificados.\n",
        "    \"\"\"\n",
        "    x = x0\n",
        "    y = y0\n",
        "    result = [y]\n",
        "    for i in range(n):\n",
        "        y = y + h * f(x, y)\n",
        "        x = x + h\n",
        "        result.append(y)\n",
        "    return result\n",
        "\n",
        "# Solicita as informações ao usuário\n",
        "print(\"\"\"Exemplo de entrada\n",
        "f = x + y para a função f(x, y) = x + y\n",
        "y0 = 1\n",
        "x0 = 0\n",
        "h = 0.1\n",
        "n = 10\"\"\")\n",
        "f = input(\"Digite a função f(x, y): \")\n",
        "y0 = float(input(\"Digite a condição inicial y0: \"))\n",
        "x0 = float(input(\"Digite o valor inicial de x0: \"))\n",
        "h = float(input(\"Digite o espaçamento h entre os valores consecutivos xi e xi+1: \"))\n",
        "n = int(input(\"Digite o número de subintervalos n: \"))\n",
        "\n",
        "# Define a função f com base na entrada do usuário\n",
        "def f_func(x, y):\n",
        "    return eval(f)\n",
        "\n",
        "# Chama a função euler com base nas informações fornecidas pelo usuário\n",
        "aproximacoes = euler(f_func, y0, x0, h, n)\n",
        "print(aproximacoes)\n"
      ]
    },
    {
      "cell_type": "markdown",
      "metadata": {
        "id": "9EvKJC92syhZ"
      },
      "source": [
        "Essa lista conterá as aproximações da solução y nos pontos da grade especificados. Podemos ver que a solução aumenta rapidamente à medida que x aumenta, o que é consistente com a equação diferencial y' = x + y, exemplo. Note que essa solução é apenas uma aproximação e pode não ser tão precisa quanto outras técnicas de solução de equações diferenciais."
      ]
    }
  ],
  "metadata": {
    "colab": {
      "provenance": []
    },
    "kernelspec": {
      "display_name": "Python 3",
      "name": "python3"
    },
    "language_info": {
      "name": "python"
    }
  },
  "nbformat": 4,
  "nbformat_minor": 0
}
